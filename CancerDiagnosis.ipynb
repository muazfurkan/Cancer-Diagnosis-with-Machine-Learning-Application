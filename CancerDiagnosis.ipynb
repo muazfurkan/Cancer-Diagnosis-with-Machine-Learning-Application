{
  "nbformat": 4,
  "nbformat_minor": 0,
  "metadata": {
    "colab": {
      "provenance": []
    },
    "kernelspec": {
      "name": "python3",
      "display_name": "Python 3"
    },
    "language_info": {
      "name": "python"
    },
    "accelerator": "GPU",
    "gpuClass": "standard"
  },
  "cells": [
    {
      "cell_type": "code",
      "execution_count": null,
      "metadata": {
        "id": "28dhqX6ulvlY"
      },
      "outputs": [],
      "source": [
        "import os\n",
        "import cv2\n",
        "import numpy as np\n",
        "from sklearn.utils import shuffle\n",
        "from sklearn import svm\n",
        "from sklearn.ensemble import RandomForestClassifier\n",
        "from sklearn.metrics import f1_score, roc_auc_score\n",
        "from sklearn.svm import LinearSVC\n",
        "from sklearn.model_selection import GridSearchCV\n",
        "import tensorflow as tf\n",
        "from tensorflow.keras.models import Sequential\n",
        "from tensorflow.keras.layers import Conv2D, MaxPooling2D, Flatten, Dense\n",
        "from skimage.feature import hog\n",
        "from sklearn.preprocessing import StandardScaler"
      ]
    },
    {
      "cell_type": "code",
      "source": [
        "train_dir = '/content/drive/MyDrive/Data/train'\n",
        "test_dir = '/content/drive/MyDrive/Data/test'\n",
        "valid_dir = '/content/drive/MyDrive/Data/valid'\n",
        "\n",
        "adeno_dir = os.path.join(train_dir, 'adenocarcinoma_left.lower.lobe_T2_N0_M0_Ib')\n",
        "large_dir = os.path.join(train_dir, 'large.cell.carcinoma_left.hilum_T2_N2_M0_IIIa')\n",
        "normal_dir = os.path.join(train_dir, 'normal')\n",
        "squamous_dir = os.path.join(train_dir, 'squamous.cell.carcinoma_left.hilum_T1_N2_M0_IIIa')\n",
        "\n",
        "adeno_test_dir = os.path.join(test_dir, 'adenocarcinoma')\n",
        "large_test_dir = os.path.join(test_dir, 'large.cell.carcinoma')\n",
        "normal_test_dir = os.path.join(test_dir, 'normal')\n",
        "squamous_test_dir = os.path.join(test_dir, 'squamous.cell.carcinoma')\n",
        "\n",
        "adeno_valid_dir = os.path.join(valid_dir, 'adenocarcinoma_left.lower.lobe_T2_N0_M0_Ib')\n",
        "large_valid_dir = os.path.join(valid_dir, 'large.cell.carcinoma_left.hilum_T2_N2_M0_IIIa')\n",
        "normal_valid_dir = os.path.join(valid_dir, 'normal')\n",
        "squamous_valid_dir = os.path.join(valid_dir, 'squamous.cell.carcinoma_left.hilum_T1_N2_M0_IIIa')"
      ],
      "metadata": {
        "id": "FB3rG0JZrOpu"
      },
      "execution_count": null,
      "outputs": []
    },
    {
      "cell_type": "code",
      "source": [
        "img_size = 400\n",
        "\n",
        "def processing(adeno_dir, large_dir, normal_dir, squamous_dir):\n",
        "  X = []\n",
        "  Y = []\n",
        "  for img_path in os.listdir(adeno_dir):\n",
        "      img = cv2.imread(os.path.join(adeno_dir,img_path))\n",
        "      img = cv2.cvtColor(img, cv2.COLOR_BGR2GRAY)\n",
        "      img = cv2.resize(img, (img_size,img_size))\n",
        "      img = img.flatten().reshape(1, -1)\n",
        "      X.append(img)\n",
        "      Y.append(1) # Kanser resmi\n",
        "  for img_path in os.listdir(large_dir):\n",
        "      img = cv2.imread(os.path.join(large_dir,img_path))\n",
        "      img = cv2.cvtColor(img, cv2.COLOR_BGR2GRAY)      \n",
        "      img = cv2.resize(img, (img_size,img_size))\n",
        "      img = img.flatten().reshape(1, -1)\n",
        "      X.append(img)\n",
        "      Y.append(1) # Kanser resmi\n",
        "  for img_path in os.listdir(normal_dir):\n",
        "      img = cv2.imread(os.path.join(normal_dir,img_path))\n",
        "      img = cv2.cvtColor(img, cv2.COLOR_BGR2GRAY)  \n",
        "      img = cv2.resize(img, (img_size,img_size))\n",
        "      img = img.flatten().reshape(1, -1)\n",
        "      X.append(img)\n",
        "      Y.append(0) # Sağlıklı resim\n",
        "  for img_path in os.listdir(squamous_dir):\n",
        "      img = cv2.imread(os.path.join(squamous_dir,img_path))\n",
        "      img = cv2.cvtColor(img, cv2.COLOR_BGR2GRAY)  \n",
        "      img = cv2.resize(img, (img_size,img_size))\n",
        "      img = img.flatten().reshape(1, -1)\n",
        "      X.append(img)\n",
        "      Y.append(1) # Kanser resmi\n",
        "  \n",
        "  return X, Y"
      ],
      "metadata": {
        "id": "dn5yYXEjr_MN"
      },
      "execution_count": null,
      "outputs": []
    },
    {
      "cell_type": "code",
      "source": [
        "class Acc_Score():\n",
        "\n",
        "  def __init__(self, y_act, y_pred):\n",
        "    self.y_pred = y_pred\n",
        "    self.y_act = y_act\n",
        "    self.precision\n",
        "    self.recall\n",
        "    self.tp_count = 0\n",
        "    self.fp_count = 0\n",
        "    self.fn_count = 0\n",
        "    self.tn_count = 0\n",
        "    self.roc_auc = 0.0\n",
        "    label_list = []\n",
        "\n",
        "  def f1_score(self):\n",
        "    f1_score = 2 * (self.precision * self.recall) / (self.precision + self.recall)\n",
        "    return f1_score\n",
        "\n",
        "  def roc_auc_score(self, fpr, tpr):\n",
        "    for i in range(1, len(fpr)):\n",
        "      self.roc_auc += (tpr[i] + tpr[i-1]) * (fpr[i] - fpr[i-1]) / 2\n",
        "\n",
        "    return self.roc_auc\n",
        "\n",
        "  def simple_acc(self):\n",
        "    true_samples = self.tp_count + self.tn_count\n",
        "    all_samples = len(self.y_act)\n",
        "    acc = true_samples / all_samples\n",
        "\n",
        "    return acc\n",
        "\n",
        "  def precision(self):\n",
        "    self.precision = self.tp_count / (self.tp_count + self.fp_count)\n",
        "    return self.precision\n",
        "\n",
        "  def recall(self):\n",
        "    self.recall = self.tp_count / (self.tp_count + self.fn_count)\n",
        "    return self.recall\n",
        "\n",
        "  def metrics(self):\n",
        "\n",
        "    for i, val in enumerate(self.y_act):\n",
        "      if val == self.y_pred[i] and val == self.pos_label:\n",
        "        self.tp_count += 1\n",
        "      elif val == self.y_pred[i] and val == self.neg_label:\n",
        "        self.tn_count += 1\n",
        "      elif val != self.y_pred[i] and val == self.neg_label:\n",
        "        self.fp_count += 1\n",
        "      elif val != self.y_pred[i] and val == self.pos_label:\n",
        "        self.fn_count += 1\n",
        "    \n",
        "    self.precision()\n",
        "    self.recall()\n",
        "\n",
        "    return self.tp_count, self.fn_count\n",
        "  \n",
        "  def confusion_matrix(self):\n",
        "    cm = np.array([[self.tp_count, self.fp_count], [self.fn_count, self.tn_count]])\n",
        "    return cm"
      ],
      "metadata": {
        "id": "tHyZNKQBxzLB"
      },
      "execution_count": null,
      "outputs": []
    },
    {
      "cell_type": "code",
      "source": [
        "X, y = processing(adeno_dir, large_dir, normal_dir, squamous_dir)\n",
        "\n",
        "X = np.array(X)\n",
        "y = np.array(y)\n",
        "\n",
        "X = X.reshape(X.shape[0], -1)\n",
        "X, y = shuffle(X, y)"
      ],
      "metadata": {
        "id": "y11teRufr98i",
        "colab": {
          "base_uri": "https://localhost:8080/"
        },
        "outputId": "a5174feb-233b-4e6b-cb8f-d74d0b25556a"
      },
      "execution_count": null,
      "outputs": [
        {
          "output_type": "stream",
          "name": "stdout",
          "text": [
            "613 613\n"
          ]
        }
      ]
    },
    {
      "cell_type": "code",
      "source": [
        "# print(y)\n",
        "# cv2.imwrite('img-[9].png',X[9])\n",
        "# for i in y:\n",
        "#   print(i)"
      ],
      "metadata": {
        "colab": {
          "base_uri": "https://localhost:8080/"
        },
        "id": "lmVy8HKsxfAe",
        "outputId": "b5828c5e-cdff-4502-c2e6-13aad9fd2edd"
      },
      "execution_count": null,
      "outputs": [
        {
          "output_type": "execute_result",
          "data": {
            "text/plain": [
              "True"
            ]
          },
          "metadata": {},
          "execution_count": 18
        }
      ]
    },
    {
      "cell_type": "code",
      "source": [
        "X_test, y_test = processing(adeno_test_dir, large_test_dir, normal_test_dir, squamous_test_dir)\n",
        "\n",
        "X_test = np.array(X_test)\n",
        "y_test = np.array(y_test)\n",
        "\n",
        "X_test = X_test.reshape(X_test.shape[0], -1)\n",
        "X_test, y_test = shuffle(X_test, y_test)"
      ],
      "metadata": {
        "id": "itsTnTWNxBJ1",
        "colab": {
          "base_uri": "https://localhost:8080/"
        },
        "outputId": "9c57be3b-1b6b-408e-cb92-fbf35d7bf77f"
      },
      "execution_count": null,
      "outputs": [
        {
          "output_type": "stream",
          "name": "stdout",
          "text": [
            "315 315\n"
          ]
        }
      ]
    },
    {
      "cell_type": "code",
      "source": [
        "X_valid, y_valid = processing(adeno_valid_dir, large_valid_dir, normal_valid_dir, squamous_valid_dir)\n",
        "\n",
        "X_valid = np.array(X_valid)\n",
        "y_valid = np.array(y_valid)\n",
        "\n",
        "X_valid = X_valid.reshape(X_valid.shape[0], -1)\n",
        "X_valid, y_valid = shuffle(X_valid, y_valid)"
      ],
      "metadata": {
        "id": "FuY6oVxQ1b1N",
        "colab": {
          "base_uri": "https://localhost:8080/"
        },
        "outputId": "cb002143-ae5d-49b2-9294-ef94dcf3e988"
      },
      "execution_count": null,
      "outputs": [
        {
          "output_type": "stream",
          "name": "stdout",
          "text": [
            "72 72\n"
          ]
        }
      ]
    },
    {
      "cell_type": "code",
      "source": [
        "svm_clf1 = LinearSVC(penalty='l1', dual=False, tol=0.0001, C=1.0, random_state=42)\n",
        "svm_clf1.fit(X, y)\n",
        "\n",
        "svm_clf2 = LinearSVC(penalty='l2', dual=False, tol=0.0001, C=1.0, random_state=42)\n",
        "svm_clf2.fit(X, y)"
      ],
      "metadata": {
        "id": "s1ad-C8Cvjq9"
      },
      "execution_count": null,
      "outputs": []
    },
    {
      "cell_type": "code",
      "source": [
        "y_pred_svm_test = svm_clf1.predict(X_test)\n",
        "y_pred_svm_valid = svm_clf1.predict(X_valid)\n",
        "\n",
        "y_pred_svm2_test = svm_clf2.predict(X_test)\n",
        "y_pred_svm2_valid = svm_clf2.predict(X_valid)\n",
        "\n",
        "f1_svm_test = f1_score(y_test, y_pred_svm_test)\n",
        "f1_svm_valid = f1_score(y_valid, y_pred_svm_valid)\n",
        "\n",
        "f1_svm2_test = f1_score(y_test, y_pred_svm2_test)\n",
        "f1_svm2_valid = f1_score(y_valid, y_pred_svm2_valid)\n",
        "\n",
        "print('With L1 Regularization : ', f1_svm_test, f1_svm_valid)\n",
        "print('With L2 Regularization : ', f1_svm2_test, f1_svm2_valid)"
      ],
      "metadata": {
        "id": "sM_bAH1Lzkij",
        "colab": {
          "base_uri": "https://localhost:8080/"
        },
        "outputId": "20ddad60-27c6-4345-80b5-c6447349a14f"
      },
      "execution_count": null,
      "outputs": [
        {
          "output_type": "stream",
          "name": "stdout",
          "text": [
            "With L1 Regularization :  0.9710982658959537 0.9666666666666667\n",
            "With L2 Regularization :  0.9730769230769232 0.9747899159663865\n"
          ]
        }
      ]
    },
    {
      "cell_type": "code",
      "source": [
        "# RF Classifier\n",
        "\n",
        "# param_grid = {\n",
        "    # 'max_depth': [2, 4, 6, 8, 10]\n",
        "    # 'min_samples_split': [2, 4, 6, 8, 10, 12, 14, 16, 18]\n",
        "    # 'n_estimators': [10, 50, 100, 200]\n",
        "    # }\n",
        "\n",
        "# max_depth = 6             # Orman derinliği\n",
        "# min_samples_split = 2     # \n",
        "# n_estimators = 100        # Ağaç sayısı\n",
        "\n",
        "# grid_search = GridSearchCV(rf_clf, param_grid=param_grid, cv=5)\n",
        "# grid_search.fit(X, y)\n",
        "# print(grid_search.best_params_)\n",
        "\n",
        "\n",
        "rf_l1 = RandomForestClassifier(n_estimators=100, max_depth=6, criterion=\"gini\", min_samples_split=5, random_state=42)\n",
        "rf_l2 = RandomForestClassifier(n_estimators=100, max_depth=6, criterion=\"entropy\", min_samples_split=10, random_state=42)\n",
        "\n",
        "rf_l1.fit(X, y)\n",
        "rf_l2.fit(X, y)"
      ],
      "metadata": {
        "id": "t--0fXiX0EBt",
        "colab": {
          "base_uri": "https://localhost:8080/",
          "height": 92
        },
        "outputId": "ba6e60b4-3d60-4cc0-b704-c31431515df8"
      },
      "execution_count": null,
      "outputs": [
        {
          "output_type": "execute_result",
          "data": {
            "text/plain": [
              "RandomForestClassifier(criterion='entropy', max_depth=6, min_samples_split=10,\n",
              "                       random_state=42)"
            ],
            "text/html": [
              "<style>#sk-container-id-2 {color: black;background-color: white;}#sk-container-id-2 pre{padding: 0;}#sk-container-id-2 div.sk-toggleable {background-color: white;}#sk-container-id-2 label.sk-toggleable__label {cursor: pointer;display: block;width: 100%;margin-bottom: 0;padding: 0.3em;box-sizing: border-box;text-align: center;}#sk-container-id-2 label.sk-toggleable__label-arrow:before {content: \"▸\";float: left;margin-right: 0.25em;color: #696969;}#sk-container-id-2 label.sk-toggleable__label-arrow:hover:before {color: black;}#sk-container-id-2 div.sk-estimator:hover label.sk-toggleable__label-arrow:before {color: black;}#sk-container-id-2 div.sk-toggleable__content {max-height: 0;max-width: 0;overflow: hidden;text-align: left;background-color: #f0f8ff;}#sk-container-id-2 div.sk-toggleable__content pre {margin: 0.2em;color: black;border-radius: 0.25em;background-color: #f0f8ff;}#sk-container-id-2 input.sk-toggleable__control:checked~div.sk-toggleable__content {max-height: 200px;max-width: 100%;overflow: auto;}#sk-container-id-2 input.sk-toggleable__control:checked~label.sk-toggleable__label-arrow:before {content: \"▾\";}#sk-container-id-2 div.sk-estimator input.sk-toggleable__control:checked~label.sk-toggleable__label {background-color: #d4ebff;}#sk-container-id-2 div.sk-label input.sk-toggleable__control:checked~label.sk-toggleable__label {background-color: #d4ebff;}#sk-container-id-2 input.sk-hidden--visually {border: 0;clip: rect(1px 1px 1px 1px);clip: rect(1px, 1px, 1px, 1px);height: 1px;margin: -1px;overflow: hidden;padding: 0;position: absolute;width: 1px;}#sk-container-id-2 div.sk-estimator {font-family: monospace;background-color: #f0f8ff;border: 1px dotted black;border-radius: 0.25em;box-sizing: border-box;margin-bottom: 0.5em;}#sk-container-id-2 div.sk-estimator:hover {background-color: #d4ebff;}#sk-container-id-2 div.sk-parallel-item::after {content: \"\";width: 100%;border-bottom: 1px solid gray;flex-grow: 1;}#sk-container-id-2 div.sk-label:hover label.sk-toggleable__label {background-color: #d4ebff;}#sk-container-id-2 div.sk-serial::before {content: \"\";position: absolute;border-left: 1px solid gray;box-sizing: border-box;top: 0;bottom: 0;left: 50%;z-index: 0;}#sk-container-id-2 div.sk-serial {display: flex;flex-direction: column;align-items: center;background-color: white;padding-right: 0.2em;padding-left: 0.2em;position: relative;}#sk-container-id-2 div.sk-item {position: relative;z-index: 1;}#sk-container-id-2 div.sk-parallel {display: flex;align-items: stretch;justify-content: center;background-color: white;position: relative;}#sk-container-id-2 div.sk-item::before, #sk-container-id-2 div.sk-parallel-item::before {content: \"\";position: absolute;border-left: 1px solid gray;box-sizing: border-box;top: 0;bottom: 0;left: 50%;z-index: -1;}#sk-container-id-2 div.sk-parallel-item {display: flex;flex-direction: column;z-index: 1;position: relative;background-color: white;}#sk-container-id-2 div.sk-parallel-item:first-child::after {align-self: flex-end;width: 50%;}#sk-container-id-2 div.sk-parallel-item:last-child::after {align-self: flex-start;width: 50%;}#sk-container-id-2 div.sk-parallel-item:only-child::after {width: 0;}#sk-container-id-2 div.sk-dashed-wrapped {border: 1px dashed gray;margin: 0 0.4em 0.5em 0.4em;box-sizing: border-box;padding-bottom: 0.4em;background-color: white;}#sk-container-id-2 div.sk-label label {font-family: monospace;font-weight: bold;display: inline-block;line-height: 1.2em;}#sk-container-id-2 div.sk-label-container {text-align: center;}#sk-container-id-2 div.sk-container {/* jupyter's `normalize.less` sets `[hidden] { display: none; }` but bootstrap.min.css set `[hidden] { display: none !important; }` so we also need the `!important` here to be able to override the default hidden behavior on the sphinx rendered scikit-learn.org. See: https://github.com/scikit-learn/scikit-learn/issues/21755 */display: inline-block !important;position: relative;}#sk-container-id-2 div.sk-text-repr-fallback {display: none;}</style><div id=\"sk-container-id-2\" class=\"sk-top-container\"><div class=\"sk-text-repr-fallback\"><pre>RandomForestClassifier(criterion=&#x27;entropy&#x27;, max_depth=6, min_samples_split=10,\n",
              "                       random_state=42)</pre><b>In a Jupyter environment, please rerun this cell to show the HTML representation or trust the notebook. <br />On GitHub, the HTML representation is unable to render, please try loading this page with nbviewer.org.</b></div><div class=\"sk-container\" hidden><div class=\"sk-item\"><div class=\"sk-estimator sk-toggleable\"><input class=\"sk-toggleable__control sk-hidden--visually\" id=\"sk-estimator-id-2\" type=\"checkbox\" checked><label for=\"sk-estimator-id-2\" class=\"sk-toggleable__label sk-toggleable__label-arrow\">RandomForestClassifier</label><div class=\"sk-toggleable__content\"><pre>RandomForestClassifier(criterion=&#x27;entropy&#x27;, max_depth=6, min_samples_split=10,\n",
              "                       random_state=42)</pre></div></div></div></div></div>"
            ]
          },
          "metadata": {},
          "execution_count": 33
        }
      ]
    },
    {
      "cell_type": "code",
      "source": [
        "y_pred_rf_test = rf_l1.predict(X_test)\n",
        "y_pred_rf_valid = rf_l1.predict(X_valid)\n",
        "\n",
        "y_pred_rf2_test = rf_l2.predict(X_test)\n",
        "y_pred_rf2_valid = rf_l2.predict(X_valid)\n",
        "\n",
        "f1_rf_test = f1_score(y_test, y_pred_rf_test)\n",
        "f1_rf_valid = f1_score(y_valid, y_pred_rf2_valid)\n",
        "\n",
        "f1_rf2_test = f1_score(y_test, y_pred_rf2_test)\n",
        "f1_rf2_valid = f1_score(y_valid, y_pred_rf2_valid)\n",
        "\n",
        "print('With L1 Regularization: ', f1_rf_test, f1_rf_valid)\n",
        "print('With L2 Regularization: ', f1_rf2_test, f1_rf2_valid)"
      ],
      "metadata": {
        "id": "H5VJGIt70Zel",
        "colab": {
          "base_uri": "https://localhost:8080/"
        },
        "outputId": "b88597ab-bf90-42c1-be7d-64907ea5584a"
      },
      "execution_count": null,
      "outputs": [
        {
          "output_type": "stream",
          "name": "stdout",
          "text": [
            "With L1 Regularization:  0.9980879541108987 0.9752066115702479\n",
            "With L2 Regularization:  0.9961832061068702 0.9752066115702479\n"
          ]
        }
      ]
    },
    {
      "cell_type": "code",
      "source": [
        "mlp = Sequential()\n",
        "mlp.add(Dense(400, input_dim=X.shape[1], activation='relu'))\n",
        "# mlp.add(Dense(60, activation='relu'))\n",
        "# mlp.add(Dense(30, activation='relu'))\n",
        "# mlp.add(Dense(60, activation='relu'))\n",
        "# mlp.add(Dense(40, activation='relu'))\n",
        "mlp.add(Dense(1, activation='sigmoid'))\n",
        "\n",
        "# mlp.compile(loss='binary_crossentropy', optimizer='sgd')\n",
        "mlp.compile(loss='binary_crossentropy', optimizer='adam', metrics=['accuracy'])\n",
        "mlp.fit(X, y, epochs=10)"
      ],
      "metadata": {
        "id": "BwAuJ1ep23hO",
        "colab": {
          "base_uri": "https://localhost:8080/"
        },
        "outputId": "390a4886-ee4d-405d-daa4-a3348e292499"
      },
      "execution_count": null,
      "outputs": [
        {
          "output_type": "stream",
          "name": "stdout",
          "text": [
            "Epoch 1/10\n",
            "20/20 [==============================] - 1s 19ms/step - loss: 11329.3379 - accuracy: 0.6313\n",
            "Epoch 2/10\n",
            "20/20 [==============================] - 0s 17ms/step - loss: 2619.8691 - accuracy: 0.8532\n",
            "Epoch 3/10\n",
            "20/20 [==============================] - 0s 17ms/step - loss: 603.7407 - accuracy: 0.9282\n",
            "Epoch 4/10\n",
            "20/20 [==============================] - 0s 18ms/step - loss: 97.0812 - accuracy: 0.9657\n",
            "Epoch 5/10\n",
            "20/20 [==============================] - 0s 20ms/step - loss: 115.5715 - accuracy: 0.9592\n",
            "Epoch 6/10\n",
            "20/20 [==============================] - 0s 19ms/step - loss: 151.3385 - accuracy: 0.9706\n",
            "Epoch 7/10\n",
            "20/20 [==============================] - 0s 19ms/step - loss: 35.8622 - accuracy: 0.9821\n",
            "Epoch 8/10\n",
            "20/20 [==============================] - 0s 20ms/step - loss: 9.0970 - accuracy: 0.9967\n",
            "Epoch 9/10\n",
            "20/20 [==============================] - 0s 19ms/step - loss: 7.2096e-06 - accuracy: 1.0000\n",
            "Epoch 10/10\n",
            "20/20 [==============================] - 0s 19ms/step - loss: 5.8878 - accuracy: 0.9967\n"
          ]
        },
        {
          "output_type": "execute_result",
          "data": {
            "text/plain": [
              "<keras.callbacks.History at 0x7f26e55425e0>"
            ]
          },
          "metadata": {},
          "execution_count": 40
        }
      ]
    },
    {
      "cell_type": "code",
      "source": [
        "y_pred_mlp_test = mlp.predict(X_test)\n",
        "# y_pred_mlp_test = np.argmax(y_pred_mlp_test, axis=1)\n",
        "\n",
        "y_pred_mlp_valid = mlp.predict(X_valid)\n",
        "# y_pred_mlp_valid = np.argmax(y_pred_mlp_valid, axis=1)\n",
        "\n",
        "# print(y_test)\n",
        "# print(y)\n",
        "print(y_pred_mlp_test)\n",
        "\n",
        "f1_mlp_test = f1_score(y_test, y_pred_mlp_test)\n",
        "f1_mlp_valid = f1_score(y_valid, y_pred_mlp_valid)\n",
        "\n",
        "roc_auc_mlp_test = roc_auc_score(y_test, y_pred_mlp_test)\n",
        "roc_auc_mlp_valid = roc_auc_score(y_valid, y_pred_mlp_valid)\n",
        "\n",
        "print('F1 Score: ', f1_mlp_test, f1_mlp_valid)\n",
        "print('ROC-AUC Score: ', roc_auc_mlp_test, roc_auc_mlp_valid)"
      ],
      "metadata": {
        "id": "ocMNg1fN4cSm"
      },
      "execution_count": null,
      "outputs": []
    }
  ]
}